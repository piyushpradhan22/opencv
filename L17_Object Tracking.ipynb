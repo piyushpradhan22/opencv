{
 "cells": [
  {
   "cell_type": "markdown",
   "metadata": {},
   "source": [
    "Object Trackers  -https://ehsangazar.com/object-tracking-with-opencv-fd18ccdd7369"
   ]
  },
  {
   "cell_type": "code",
   "execution_count": 14,
   "metadata": {},
   "outputs": [],
   "source": [
    "import numpy as np\n",
    "import cv2\n",
    "import matplotlib.pyplot as plt"
   ]
  },
  {
   "cell_type": "code",
   "execution_count": 15,
   "metadata": {},
   "outputs": [],
   "source": [
    "def nothing(x):\n",
    "    pass\n",
    "def drawRect(frame, bbox):\n",
    "    x, y, w, h = int(bbox[0]), int(bbox[1]), int(bbox[2]), int(bbox[3])\n",
    "    cv2.rectangle(img, (x, y), ((x + w), (y + h)), (255, 0, 255), 3, 3 )\n",
    "    cv2.putText(img, \"Tracking\", (30, 60), cv2.FONT_HERSHEY_SIMPLEX, 0.7, (0, 255, 0), 1)\n",
    "#create tracker\n",
    "tracker = cv2.TrackerMOSSE_create()\n",
    "#Initialize\n",
    "cap = cv2.VideoCapture(0)\n",
    "ret, frame = cap.read()\n",
    "bbox = cv2.selectROI('Tracking',frame,False)\n",
    "tracker.init(frame,bbox)\n",
    "\n",
    "while(1):\n",
    "    timer = cv2.getTickCount()\n",
    "    ret, img = cap.read()\n",
    "    #frame = frame[:,::-1]\n",
    "    fps = int(cv2.getTickFrequency()//(cv2.getTickCount() - timer))\n",
    "    cv2.putText(img, str(fps),(30,40),cv2.FONT_HERSHEY_SIMPLEX,1,(255,255,0), 1, cv2.LINE_AA)\n",
    "    success, bbox = tracker.update(img)\n",
    "    if success:\n",
    "        drawRect(img, bbox)\n",
    "    if frame is None:\n",
    "        break\n",
    "    cv2.imshow('Tracking',img)\n",
    "    if cv2.waitKey(1) & 0xFF == ord('q'):\n",
    "        break\n",
    "cv2.destroyAllWindows()\n",
    "cap.release()"
   ]
  },
  {
   "cell_type": "code",
   "execution_count": null,
   "metadata": {},
   "outputs": [],
   "source": []
  }
 ],
 "metadata": {
  "kernelspec": {
   "display_name": "Python 3",
   "language": "python",
   "name": "python3"
  },
  "language_info": {
   "codemirror_mode": {
    "name": "ipython",
    "version": 3
   },
   "file_extension": ".py",
   "mimetype": "text/x-python",
   "name": "python",
   "nbconvert_exporter": "python",
   "pygments_lexer": "ipython3",
   "version": "3.7.6"
  }
 },
 "nbformat": 4,
 "nbformat_minor": 4
}
