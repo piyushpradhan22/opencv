{
 "cells": [
  {
   "cell_type": "code",
   "execution_count": 4,
   "metadata": {},
   "outputs": [],
   "source": [
    "import numpy as np\n",
    "import cv2\n",
    "import matplotlib.pyplot as plt\n",
    "import time\n",
    "import scipy.ndimage.filters as filter"
   ]
  },
  {
   "cell_type": "code",
   "execution_count": 5,
   "metadata": {},
   "outputs": [],
   "source": [
    "img = cv2.imread('data/car.png',1)\n",
    "imgHSV = cv2.cvtColor(img, cv2.COLOR_BGR2HSV)\n",
    "imgc = np.hstack((img,imgHSV))"
   ]
  },
  {
   "cell_type": "code",
   "execution_count": 6,
   "metadata": {},
   "outputs": [],
   "source": [
    "def nothing(x):\n",
    "    pass\n",
    "\n",
    "cv2.namedWindow('Trackbars')\n",
    "cv2.createTrackbar('Hue Min','Trackbars',0,179, nothing)\n",
    "cv2.createTrackbar('Hue Max','Trackbars',179,179, nothing)\n",
    "cv2.createTrackbar('Sat Min','Trackbars',0,255, nothing)\n",
    "cv2.createTrackbar('Sat Max','Trackbars',255,255, nothing)\n",
    "cv2.createTrackbar('Val Min','Trackbars',0,255, nothing)\n",
    "cv2.createTrackbar('Val Max','Trackbars',255,255, nothing)\n",
    "\n",
    "while(1):\n",
    "    hmin=cv2.getTrackbarPos('Hue Min','Trackbars')\n",
    "    hmax=cv2.getTrackbarPos('Hue Max','Trackbars')\n",
    "    smin=cv2.getTrackbarPos('Sat Min','Trackbars')\n",
    "    smax=cv2.getTrackbarPos('Sat Max','Trackbars')\n",
    "    vmin=cv2.getTrackbarPos('Val Min','Trackbars')\n",
    "    vmax=cv2.getTrackbarPos('Val Max','Trackbars')\n",
    "    lower = np.array([hmin,smin,vmin])\n",
    "    upper = np.array([hmax,smax,vmax])\n",
    "    mask = cv2.inRange(imgHSV,lower,upper)\n",
    "    imgRes = cv2.bitwise_and(img,img,mask=mask)\n",
    "    mask_BGR = cv2.cvtColor(cv2.inRange(imgHSV,lower,upper), cv2.COLOR_GRAY2BGR)\n",
    "    masked = np.hstack((mask_BGR,imgRes))\n",
    "    res = np.vstack((imgc,masked))\n",
    "    cv2.imshow('Image',cv2.resize(res,(320,320)))\n",
    "    if cv2.waitKey(1) & 0xFF == ord('q'):\n",
    "        break\n",
    "cv2.destroyAllWindows()"
   ]
  },
  {
   "cell_type": "code",
   "execution_count": null,
   "metadata": {},
   "outputs": [],
   "source": []
  }
 ],
 "metadata": {
  "kernelspec": {
   "display_name": "Python 3",
   "language": "python",
   "name": "python3"
  },
  "language_info": {
   "codemirror_mode": {
    "name": "ipython",
    "version": 3
   },
   "file_extension": ".py",
   "mimetype": "text/x-python",
   "name": "python",
   "nbconvert_exporter": "python",
   "pygments_lexer": "ipython3",
   "version": "3.7.6"
  }
 },
 "nbformat": 4,
 "nbformat_minor": 4
}
