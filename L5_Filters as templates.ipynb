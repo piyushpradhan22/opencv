{
 "cells": [
  {
   "cell_type": "code",
   "execution_count": null,
   "metadata": {},
   "outputs": [],
   "source": [
    "import cv2\n",
    "import matplotlib.pyplot as plt\n",
    "import time\n",
    "import numpy as np"
   ]
  },
  {
   "cell_type": "code",
   "execution_count": null,
   "metadata": {},
   "outputs": [],
   "source": [
    "# Highest spike in correlation is the matching point"
   ]
  },
  {
   "cell_type": "code",
   "execution_count": null,
   "metadata": {},
   "outputs": [],
   "source": [
    "#Skip  this\n",
    "tablet = cv2.imread('data/tablet.png',0).astype('uint64')\n",
    "kernel = tablet[75:165, 150:185].astype('uint64')\n",
    "res1 = np.zeros(tablet.shape)\n",
    "\n",
    "r, c = tablet.shape\n",
    "kr, kc = kernel.shape\n",
    "m = kr//2\n",
    "\n",
    "for i in range(r-m-1):\n",
    "    for j in range(c-m-1):\n",
    "        midValue = 0;\n",
    "        for k in range(kr):\n",
    "            for l in range(kc):\n",
    "                midValue+=tablet[i+k,j+l]*kernel[k,l]\n",
    "        res1[i+m,j+m] = midValue/16"
   ]
  },
  {
   "cell_type": "code",
   "execution_count": null,
   "metadata": {},
   "outputs": [],
   "source": [
    "tablet = cv2.imread('data/tablet.png',0)\n",
    "glyph = tablet[75:165, 150:185]\n",
    "res = cv2.matchTemplate(tablet, glyph, cv2.TM_CCOEFF_NORMED)\n",
    "plt.imshow(res,cmap='gray')"
   ]
  },
  {
   "cell_type": "code",
   "execution_count": null,
   "metadata": {},
   "outputs": [],
   "source": [
    "# Using for loop for threshhold\n",
    "res = cv2.matchTemplate(tablet, glyph, cv2.TM_CCOEFF_NORMED)\n",
    "for i in range(res.shape[0]):\n",
    "    for j in range(res.shape[1]):\n",
    "        if res[i,j] >.95 :\n",
    "            print('Highest Point - top left corner of the match - ',i,j)"
   ]
  },
  {
   "cell_type": "code",
   "execution_count": null,
   "metadata": {},
   "outputs": [],
   "source": [
    "# Using inbuilt method for threshhold\n",
    "res = cv2.matchTemplate(tablet, glyph, cv2.TM_CCOEFF_NORMED)\n",
    "loc = np.where(res > .95)"
   ]
  },
  {
   "cell_type": "code",
   "execution_count": null,
   "metadata": {},
   "outputs": [],
   "source": [
    "np.asarray(loc)[::-1]"
   ]
  },
  {
   "cell_type": "code",
   "execution_count": null,
   "metadata": {},
   "outputs": [],
   "source": [
    "glyph.shape[::-1]"
   ]
  },
  {
   "cell_type": "code",
   "execution_count": null,
   "metadata": {},
   "outputs": [],
   "source": [
    "cv2.rectangle(tablet, (150,75), (185, 165), (255,255,255), 2)\n",
    "plt.imshow(tablet,cmap='gray')"
   ]
  },
  {
   "cell_type": "code",
   "execution_count": null,
   "metadata": {},
   "outputs": [],
   "source": []
  }
 ],
 "metadata": {
  "kernelspec": {
   "display_name": "Python 3",
   "language": "python",
   "name": "python3"
  },
  "language_info": {
   "codemirror_mode": {
    "name": "ipython",
    "version": 3
   },
   "file_extension": ".py",
   "mimetype": "text/x-python",
   "name": "python",
   "nbconvert_exporter": "python",
   "pygments_lexer": "ipython3",
   "version": "3.7.6"
  }
 },
 "nbformat": 4,
 "nbformat_minor": 4
}
