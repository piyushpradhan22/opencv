{
 "cells": [
  {
   "cell_type": "code",
   "execution_count": 1,
   "metadata": {},
   "outputs": [],
   "source": [
    "import numpy as np\n",
    "import mediapipe as mp\n",
    "import cv2\n",
    "from math import atan2, pi"
   ]
  },
  {
   "cell_type": "code",
   "execution_count": 2,
   "metadata": {},
   "outputs": [],
   "source": [
    "def angle(A, B, C):\n",
    "    Ax, Ay = A[0]-B[0], A[1]-B[1]\n",
    "    Cx, Cy = C[0]-B[0], C[1]-B[1]\n",
    "    a = atan2(Ay, Ax)\n",
    "    c = atan2(Cy, Cx)\n",
    "    if a < 0: a += pi*2\n",
    "    if c < 0: c += pi*2\n",
    "    return (pi*2 + c - a) if a > c else (c - a)"
   ]
  },
  {
   "cell_type": "code",
   "execution_count": 3,
   "metadata": {},
   "outputs": [],
   "source": [
    "from ctypes import cast, POINTER\n",
    "from comtypes import CLSCTX_ALL\n",
    "from pycaw.pycaw import AudioUtilities, IAudioEndpointVolume\n",
    "devices = AudioUtilities.GetSpeakers()\n",
    "interface = devices.Activate(\n",
    "    IAudioEndpointVolume._iid_, CLSCTX_ALL, None)\n",
    "volume = cast(interface, POINTER(IAudioEndpointVolume))\n",
    "#volume.GetMute()\n",
    "#volume.GetMasterVolumeLevel()\n",
    "#volume.GetVolumeRange()\n",
    "#volume.SetMasterVolumeLevel(-5, None)"
   ]
  },
  {
   "cell_type": "code",
   "execution_count": 4,
   "metadata": {},
   "outputs": [],
   "source": [
    "mp_draw = mp.solutions.drawing_utils\n",
    "mp_hands = mp.solutions.hands"
   ]
  },
  {
   "cell_type": "code",
   "execution_count": 5,
   "metadata": {},
   "outputs": [],
   "source": [
    "cap = cv2.VideoCapture(0)\n",
    "ret, frame = cap.read()\n",
    "hands = mp_hands.Hands()\n",
    "while(1):\n",
    "    ret, frame = cap.read()\n",
    "    #frame = cv2.flip(frame, 1)\n",
    "    img = cv2.cvtColor(frame, cv2.COLOR_BGR2RGB)\n",
    "    # Process image\n",
    "    results = hands.process(img)\n",
    "    h, w, c = img.shape\n",
    "    if results.multi_hand_landmarks:\n",
    "        # landmarks\n",
    "        for handLms in results.multi_hand_landmarks:\n",
    "            A = [handLms.landmark[0].x*w, handLms.landmark[0].y*h]\n",
    "            B = [handLms.landmark[4].x*w, handLms.landmark[4].y*h]\n",
    "            C = [handLms.landmark[8].x*w, handLms.landmark[8].y*h]\n",
    "            vol = angle(C,A,B)*(100/1.5)\n",
    "            if vol<5:\n",
    "                vol=0\n",
    "            if vol>60:\n",
    "                vol=60\n",
    "            volume.SetMasterVolumeLevel(vol-60, None)\n",
    "            \n",
    "            for id, lm in enumerate(handLms.landmark):\n",
    "                cx, cy = int(lm.x*w), int(lm.y*h)\n",
    "                if id in (0,4,8):\n",
    "                    cv2.circle(frame, (cx, cy), 5, (255, 0, 255), 6, cv2.FILLED)\n",
    "            #mp_draw.draw_landmarks(frame, handLms, mp_hands.HAND_CONNECTIONS)\n",
    "    cv2.imshow('Tracking',cv2.flip(frame,1))\n",
    "    if cv2.waitKey(1) & 0xFF == ord('q'):\n",
    "        break\n",
    "cv2.destroyAllWindows()\n",
    "cap.release()\n",
    "hands.close()"
   ]
  },
  {
   "cell_type": "code",
   "execution_count": null,
   "metadata": {},
   "outputs": [],
   "source": []
  }
 ],
 "metadata": {
  "kernelspec": {
   "display_name": "Python 3 (ipykernel)",
   "language": "python",
   "name": "python3"
  },
  "language_info": {
   "codemirror_mode": {
    "name": "ipython",
    "version": 3
   },
   "file_extension": ".py",
   "mimetype": "text/x-python",
   "name": "python",
   "nbconvert_exporter": "python",
   "pygments_lexer": "ipython3",
   "version": "3.10.2"
  }
 },
 "nbformat": 4,
 "nbformat_minor": 4
}
