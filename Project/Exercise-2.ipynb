{
 "cells": [
  {
   "cell_type": "code",
   "execution_count": 2,
   "id": "7e8a274f-ea4e-4408-9e60-9a42327ab944",
   "metadata": {},
   "outputs": [],
   "source": [
    "import cv2\n",
    "import numpy as np\n",
    "import time"
   ]
  },
  {
   "cell_type": "code",
   "execution_count": 4,
   "id": "5f53569f-f0a1-4517-8274-9031c42f2412",
   "metadata": {},
   "outputs": [],
   "source": [
    "def nothing(x):\n",
    "    pass\n",
    "\n",
    "cv2.namedWindow('Trackbars')\n",
    "cv2.createTrackbar('RMin','Trackbars',0,255, nothing)\n",
    "cv2.createTrackbar('RMax','Trackbars',0,255, nothing)\n",
    "cap = cv2.VideoCapture('data/exercise.mp4')\n",
    "ret, frame = cap.read()\n",
    "\n",
    "while(cap.isOpened()):\n",
    "    ret, frame = cap.read()\n",
    "    threshMin = cv2.getTrackbarPos('RMin','Trackbars')\n",
    "    threshMax = cv2.getTrackbarPos('RMax','Trackbars')\n",
    "    edge = cv2.Canny(frame, threshMin, threshMax)\n",
    "    #frame = cv2.flip(frame, 1)\n",
    "    if ret == False:\n",
    "        break\n",
    "    img = cv2.cvtColor(frame, cv2.COLOR_BGR2RGB)\n",
    "    cv2.imshow('Original',cv2.resize(cv2.flip(frame,1),(480,640)))\n",
    "    cv2.imshow('Edge',cv2.resize(cv2.flip(edge,1),(480,640)))\n",
    "    if cv2.waitKey(1) & 0xFF == ord('q'):\n",
    "        break\n",
    "cv2.destroyAllWindows()\n",
    "cap.release()"
   ]
  },
  {
   "cell_type": "code",
   "execution_count": null,
   "id": "92f7829a-f7bd-408b-9798-eeabc20a8906",
   "metadata": {},
   "outputs": [],
   "source": []
  }
 ],
 "metadata": {
  "kernelspec": {
   "display_name": "Python 3 (ipykernel)",
   "language": "python",
   "name": "python3"
  },
  "language_info": {
   "codemirror_mode": {
    "name": "ipython",
    "version": 3
   },
   "file_extension": ".py",
   "mimetype": "text/x-python",
   "name": "python",
   "nbconvert_exporter": "python",
   "pygments_lexer": "ipython3",
   "version": "3.10.2"
  }
 },
 "nbformat": 4,
 "nbformat_minor": 5
}
