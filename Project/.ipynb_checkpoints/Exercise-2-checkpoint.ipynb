{
 "cells": [
  {
   "cell_type": "code",
   "execution_count": 12,
   "id": "7e8a274f-ea4e-4408-9e60-9a42327ab944",
   "metadata": {},
   "outputs": [],
   "source": [
    "import cv2\n",
    "import numpy as np\n",
    "import time\n",
    "import mediapipe as mp"
   ]
  },
  {
   "cell_type": "code",
   "execution_count": 13,
   "id": "88a03624-9547-4a4d-ba52-fc6e97f4ef61",
   "metadata": {},
   "outputs": [],
   "source": [
    "mp_draw = mp.solutions.drawing_utils\n",
    "mp_pose = mp.solutions.pose"
   ]
  },
  {
   "cell_type": "code",
   "execution_count": 20,
   "id": "5f53569f-f0a1-4517-8274-9031c42f2412",
   "metadata": {},
   "outputs": [],
   "source": [
    "cap = cv2.VideoCapture('data/exercise.mp4')\n",
    "ret, frame = cap.read()\n",
    "pose = mp_pose.Pose()\n",
    "while(cap.isOpened()):\n",
    "    ret, frame = cap.read()\n",
    "    #frame = cv2.flip(frame, 1)\n",
    "    if ret == False:\n",
    "        break\n",
    "    img = cv2.cvtColor(frame, cv2.COLOR_BGR2RGB)\n",
    "    # Process image\n",
    "    results = pose.process(img)\n",
    "    if results.pose_landmarks is not None:\n",
    "        # Drawing landmarks\n",
    "        for id, lm in enumerate(results.pose_landmarks.landmark):\n",
    "            h, w, c = img.shape\n",
    "            cx, cy = int(lm.x*w), int(lm.y*h)\n",
    "            #print(id, cx, cy)\n",
    "            if id==0:\n",
    "                cv2.circle(frame, (cx, cy), 5, (255, 0, 255), 6, cv2.FILLED)\n",
    "            mp_draw.draw_landmarks(frame, results.pose_landmarks, mp_pose.POSE_CONNECTIONS)\n",
    "    cv2.imshow('Tracking',cv2.resize(cv2.flip(frame,1),(480,640)))\n",
    "    if cv2.waitKey(1) & 0xFF == ord('q'):\n",
    "        break\n",
    "cv2.destroyAllWindows()\n",
    "cap.release()\n",
    "pose.close()"
   ]
  },
  {
   "cell_type": "code",
   "execution_count": null,
   "id": "92f7829a-f7bd-408b-9798-eeabc20a8906",
   "metadata": {},
   "outputs": [],
   "source": []
  }
 ],
 "metadata": {
  "kernelspec": {
   "display_name": "Python 3 (ipykernel)",
   "language": "python",
   "name": "python3"
  },
  "language_info": {
   "codemirror_mode": {
    "name": "ipython",
    "version": 3
   },
   "file_extension": ".py",
   "mimetype": "text/x-python",
   "name": "python",
   "nbconvert_exporter": "python",
   "pygments_lexer": "ipython3",
   "version": "3.10.2"
  }
 },
 "nbformat": 4,
 "nbformat_minor": 5
}
