{
 "cells": [
  {
   "cell_type": "code",
   "execution_count": 2,
   "id": "8ad90355-4689-49e5-9da5-e885430f177b",
   "metadata": {},
   "outputs": [],
   "source": [
    "import cv2"
   ]
  },
  {
   "cell_type": "code",
   "execution_count": 3,
   "id": "fc298925-a4bc-436e-934c-dfef287c83a2",
   "metadata": {},
   "outputs": [],
   "source": [
    "import cv2\n",
    "import numpy as np\n",
    "img = cv2.imread('data/balls.png',0)"
   ]
  },
  {
   "cell_type": "markdown",
   "id": "27026aa0-0b53-4e33-85ec-a6e7016e5d73",
   "metadata": {},
   "source": [
    "## Canny Edge Detection"
   ]
  },
  {
   "cell_type": "code",
   "execution_count": 4,
   "id": "4216ff2b-a7a2-4f2c-9356-d0fabc78d64a",
   "metadata": {},
   "outputs": [],
   "source": [
    "def nothing(x):\n",
    "    pass\n",
    "\n",
    "cv2.namedWindow('Trackbars')\n",
    "cv2.createTrackbar('RMin','Trackbars',0,255, nothing)\n",
    "cv2.createTrackbar('RMax','Trackbars',0,255, nothing)\n",
    "\n",
    "while(1):\n",
    "    threshMin = cv2.getTrackbarPos('RMin','Trackbars')\n",
    "    threshMax = cv2.getTrackbarPos('RMax','Trackbars')\n",
    "    edge = cv2.Canny(img, threshMin, threshMax)\n",
    "    cv2.imshow(\"Image\", img)\n",
    "    cv2.imshow(\"Edges\", edge)\n",
    "    \n",
    "    if cv2.waitKey(1) & 0xFF == ord('q'):\n",
    "        break\n",
    "cv2.destroyAllWindows()"
   ]
  },
  {
   "cell_type": "code",
   "execution_count": null,
   "id": "5f810659-5fc1-4844-ab6c-d3872c5fc3b3",
   "metadata": {},
   "outputs": [],
   "source": []
  }
 ],
 "metadata": {
  "kernelspec": {
   "display_name": "Python 3 (ipykernel)",
   "language": "python",
   "name": "python3"
  },
  "language_info": {
   "codemirror_mode": {
    "name": "ipython",
    "version": 3
   },
   "file_extension": ".py",
   "mimetype": "text/x-python",
   "name": "python",
   "nbconvert_exporter": "python",
   "pygments_lexer": "ipython3",
   "version": "3.10.2"
  }
 },
 "nbformat": 4,
 "nbformat_minor": 5
}
