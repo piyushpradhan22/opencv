{
 "cells": [
  {
   "cell_type": "code",
   "execution_count": 1,
   "metadata": {},
   "outputs": [],
   "source": [
    "import cv2\n",
    "import matplotlib.pyplot as plt\n",
    "import time\n",
    "import numpy as np"
   ]
  },
  {
   "cell_type": "code",
   "execution_count": 2,
   "metadata": {},
   "outputs": [],
   "source": [
    "# Lineaer Function\n",
    "# 1. Additive: f(x+y) = f(x)+f(y)\n",
    "# 2. Multiplicative: f(ax) = a.f(x)\n",
    "# Impulse is having the area 1 (Can be infinite length and zero width)\n",
    "# In discrete world it is single 1 signal\n",
    "# Correlation & Convolution(Flip upside down and left to right)"
   ]
  },
  {
   "cell_type": "code",
   "execution_count": 5,
   "metadata": {},
   "outputs": [],
   "source": [
    "def showImg(img):\n",
    "    cv2.imshow('Image',img)\n",
    "    cv2.waitKey(0)\n",
    "    cv2.destroyAllWindows()"
   ]
  },
  {
   "cell_type": "code",
   "execution_count": 72,
   "metadata": {},
   "outputs": [],
   "source": [
    "# Convolution - cv2.filter2D\n",
    "pepper = cv2.imread('data/peppers_color.tif',1)\n",
    "noise_img = abs(pepper + (np.random.normal(0,15,(512,512,3)))).astype('uint8')\n",
    "kernel = np.ones((5,5),np.float32)/25\n",
    "basicFilter = cv2.filter2D(noise_img,-1,kernel)\n",
    "showImg(basicFilter)"
   ]
  },
  {
   "cell_type": "code",
   "execution_count": 31,
   "metadata": {},
   "outputs": [],
   "source": [
    "# Averaging filter - cv2.blur() or cv2.boxFilter()\n",
    "averagingFilter = cv2.blur(noise_img,(5,5))\n",
    "showImg(averagingFilter)"
   ]
  },
  {
   "cell_type": "code",
   "execution_count": 30,
   "metadata": {},
   "outputs": [],
   "source": [
    "# Gaussian filter - cv2.GaussianBlur() - Best for removing gaussian noise\n",
    "gaussianFilter = cv2.GaussianBlur(noise_img,(5,5),0)\n",
    "showImg(gaussianFilter)"
   ]
  },
  {
   "cell_type": "code",
   "execution_count": 29,
   "metadata": {},
   "outputs": [],
   "source": [
    "# Median filter - cv2.medianBlur() - Best for salt and paper noise\n",
    "medianFilter = cv2.medianBlur(noise_img,5)\n",
    "showImg(medianFilter)"
   ]
  },
  {
   "cell_type": "code",
   "execution_count": 81,
   "metadata": {},
   "outputs": [],
   "source": [
    "# Bilateral Filtering - cv2.bilateralFilter() - Preserves Edges\n",
    "bf = cv2.bilateralFilter(noise_img, 9, 75, 75)\n",
    "showImg(bf)"
   ]
  },
  {
   "cell_type": "code",
   "execution_count": 82,
   "metadata": {},
   "outputs": [],
   "source": [
    "# sharpening filter\n",
    "kernel1 = np.asarray([[0,0,0], [0,2,0],[0,0,0]])\n",
    "kernel2 = np.asarray([[1,1,1], [1,1,1],[1,1,1]])\n",
    "i1 = cv2.filter2D(noise_img,-1,kernel1)\n",
    "i2 = cv2.filter2D(noise_img,-1,kernel2/40)\n",
    "showImg(i1-i2)"
   ]
  },
  {
   "cell_type": "code",
   "execution_count": null,
   "metadata": {},
   "outputs": [],
   "source": []
  }
 ],
 "metadata": {
  "kernelspec": {
   "display_name": "Python 3 (ipykernel)",
   "language": "python",
   "name": "python3"
  },
  "language_info": {
   "codemirror_mode": {
    "name": "ipython",
    "version": 3
   },
   "file_extension": ".py",
   "mimetype": "text/x-python",
   "name": "python",
   "nbconvert_exporter": "python",
   "pygments_lexer": "ipython3",
   "version": "3.10.2"
  }
 },
 "nbformat": 4,
 "nbformat_minor": 4
}
