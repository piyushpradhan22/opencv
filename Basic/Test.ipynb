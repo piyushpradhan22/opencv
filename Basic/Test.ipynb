{
 "cells": [
  {
   "cell_type": "code",
   "execution_count": 1,
   "id": "16e66299-4a2c-4267-a7d0-68d77663d51d",
   "metadata": {},
   "outputs": [],
   "source": [
    "import cv2\n",
    "import numpy as np\n",
    "cap = cv2.VideoCapture(0)\n",
    "\n",
    "def nothing(x):\n",
    "    pass\n",
    "\n",
    "cv2.namedWindow('Trackbars')\n",
    "cv2.createTrackbar('Hue Min','Trackbars',0,179, nothing)\n",
    "cv2.createTrackbar('Hue Max','Trackbars',179,179, nothing)\n",
    "cv2.createTrackbar('Sat Min','Trackbars',0,255, nothing)\n",
    "cv2.createTrackbar('Sat Max','Trackbars',255,255, nothing)\n",
    "cv2.createTrackbar('Val Min','Trackbars',0,255, nothing)\n",
    "cv2.createTrackbar('Val Max','Trackbars',255,255, nothing)\n",
    "while True:\n",
    "    hmin=cv2.getTrackbarPos('Hue Min','Trackbars')\n",
    "    hmax=cv2.getTrackbarPos('Hue Max','Trackbars')\n",
    "    smin=cv2.getTrackbarPos('Sat Min','Trackbars')\n",
    "    smax=cv2.getTrackbarPos('Sat Max','Trackbars')\n",
    "    vmin=cv2.getTrackbarPos('Val Min','Trackbars')\n",
    "    vmax=cv2.getTrackbarPos('Val Max','Trackbars')\n",
    "    lower = np.array([hmin,smin,vmin])\n",
    "    upper = np.array([hmax,smax,vmax])\n",
    "    \n",
    "    ret, frame = cap.read()\n",
    "    img = cv2.flip(frame, 1)\n",
    "    imgHSV = cv2.cvtColor(img, cv2.COLOR_BGR2HSV)\n",
    "    mask = cv2.inRange(imgHSV,lower,upper)\n",
    "    imgRes = cv2.bitwise_and(img,img,mask=mask)\n",
    "    cv2.imshow('Frame', imgRes)\n",
    "    if cv2.waitKey(1) & 0xFF == ord('q'):\n",
    "        break\n",
    "cv2.destroyAllWindows()\n",
    "cap.release()"
   ]
  },
  {
   "cell_type": "code",
   "execution_count": null,
   "id": "9d960cae-61fc-4e68-b22f-31143b93cd11",
   "metadata": {},
   "outputs": [],
   "source": []
  }
 ],
 "metadata": {
  "kernelspec": {
   "display_name": "Python 3 (ipykernel)",
   "language": "python",
   "name": "python3"
  },
  "language_info": {
   "codemirror_mode": {
    "name": "ipython",
    "version": 3
   },
   "file_extension": ".py",
   "mimetype": "text/x-python",
   "name": "python",
   "nbconvert_exporter": "python",
   "pygments_lexer": "ipython3",
   "version": "3.10.2"
  }
 },
 "nbformat": 4,
 "nbformat_minor": 5
}
