{
 "cells": [
  {
   "cell_type": "code",
   "execution_count": 2,
   "id": "ed50288f-4267-4aab-8cc1-4879a6a92705",
   "metadata": {},
   "outputs": [],
   "source": [
    "import cv2\n",
    "import numpy as np\n",
    "img = cv2.imread('data/balls.png',0)"
   ]
  },
  {
   "cell_type": "code",
   "execution_count": null,
   "id": "763074d4-b3c9-4c22-a806-a0c23cca8117",
   "metadata": {},
   "outputs": [],
   "source": [
    "def nothing(x):\n",
    "    pass\n",
    "\n",
    "cv2.namedWindow('Trackbars')\n",
    "cv2.createTrackbar('ThreshMin','Trackbars',0,255, nothing)\n",
    "cv2.createTrackbar('ThreshMax','Trackbars',0,255, nothing)\n",
    "\n",
    "while(1):\n",
    "    threshMin = cv2.getTrackbarPos('ThreshMin','Trackbars')\n",
    "    threshMax = cv2.getTrackbarPos('ThreshMax','Trackbars')\n",
    "    _,th1 = cv2.threshold(img,threshMin,threshMax,cv2.THRESH_BINARY_INV)\n",
    "    kernel = np.ones((2,2), np.uint8)\n",
    "    dilation = cv2.dilate(th1,kernel, iterations = 2)\n",
    "    cv2.imshow(\"Image\", img)\n",
    "    cv2.imshow(\"Thresh\", th1)\n",
    "    cv2.imshow(\"Dilation\", dilation)\n",
    "    if cv2.waitKey(1) & 0xFF == ord('q'):\n",
    "        break\n",
    "cv2.destroyAllWindows()"
   ]
  },
  {
   "cell_type": "code",
   "execution_count": null,
   "id": "1304eada-eed9-4182-9691-7ac5cfb8e2c3",
   "metadata": {},
   "outputs": [],
   "source": []
  }
 ],
 "metadata": {
  "kernelspec": {
   "display_name": "Python 3 (ipykernel)",
   "language": "python",
   "name": "python3"
  },
  "language_info": {
   "codemirror_mode": {
    "name": "ipython",
    "version": 3
   },
   "file_extension": ".py",
   "mimetype": "text/x-python",
   "name": "python",
   "nbconvert_exporter": "python",
   "pygments_lexer": "ipython3",
   "version": "3.10.2"
  }
 },
 "nbformat": 4,
 "nbformat_minor": 5
}
