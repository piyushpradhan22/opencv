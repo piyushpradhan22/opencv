{
 "cells": [
  {
   "cell_type": "code",
   "execution_count": 32,
   "metadata": {},
   "outputs": [],
   "source": [
    "import numpy as np\n",
    "import cv2\n",
    "import matplotlib.pyplot as plt\n",
    "import time"
   ]
  },
  {
   "cell_type": "code",
   "execution_count": 33,
   "metadata": {},
   "outputs": [],
   "source": [
    "shape = cv2.imread('data/shapes.png',1)\n",
    "shapeGray = cv2.imread('data/shapes.png',0)\n",
    "ret, thres = cv2.threshold(shapeGray,245, 255, cv2.THRESH_BINARY)\n",
    "contours, hierarchy = cv2.findContours(thres, cv2.RETR_TREE, cv2.CHAIN_APPROX_NONE)"
   ]
  },
  {
   "cell_type": "code",
   "execution_count": 34,
   "metadata": {
    "scrolled": true
   },
   "outputs": [],
   "source": [
    "# font \n",
    "font = cv2.FONT_HERSHEY_SIMPLEX \n",
    "# fontScale \n",
    "fontScale = 1\n",
    "# Blue color in BGR \n",
    "color = (255, 0, 0)\n",
    "# Line thickness of 1 px \n",
    "thickness = 1\n",
    "for contour in contours :\n",
    "    approx = cv2.approxPolyDP(contour, 0.01*cv2.arcLength(contour, True), True) #True for closed surface\n",
    "    if cv2.contourArea(contour) < 300:\n",
    "        continue\n",
    "    cv2.drawContours(shape, [approx], 0, (255,0,266), 1)\n",
    "    # org\n",
    "    orgin = (approx[0,0,0],approx[0,0,1])\n",
    "    if approx.shape[0] == 4 :\n",
    "        image = cv2.putText(shape, 'rectangle', orgin, font,fontScale, color, thickness, cv2.LINE_AA)"
   ]
  },
  {
   "cell_type": "code",
   "execution_count": 35,
   "metadata": {},
   "outputs": [],
   "source": [
    "cv2.imshow('image',shape)\n",
    "cv2.waitKey(0)\n",
    "cv2.destroyAllWindows()"
   ]
  },
  {
   "cell_type": "code",
   "execution_count": null,
   "metadata": {},
   "outputs": [],
   "source": []
  }
 ],
 "metadata": {
  "kernelspec": {
   "display_name": "Python 3",
   "language": "python",
   "name": "python3"
  },
  "language_info": {
   "codemirror_mode": {
    "name": "ipython",
    "version": 3
   },
   "file_extension": ".py",
   "mimetype": "text/x-python",
   "name": "python",
   "nbconvert_exporter": "python",
   "pygments_lexer": "ipython3",
   "version": "3.7.6"
  }
 },
 "nbformat": 4,
 "nbformat_minor": 4
}
