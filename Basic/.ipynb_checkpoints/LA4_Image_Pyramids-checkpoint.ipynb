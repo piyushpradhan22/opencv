{
 "cells": [
  {
   "cell_type": "code",
   "execution_count": 1,
   "id": "4e5f9ec5-638a-43f2-9239-e159f4be6c8f",
   "metadata": {},
   "outputs": [],
   "source": [
    "import cv2"
   ]
  },
  {
   "cell_type": "code",
   "execution_count": 2,
   "id": "d6f30777-e94d-4e50-b8a3-69ef2022959d",
   "metadata": {},
   "outputs": [],
   "source": [
    "img = cv2.imread(\"data/lena_color_512.tif\")"
   ]
  },
  {
   "cell_type": "code",
   "execution_count": 6,
   "id": "44a009a2-72c0-4670-b669-7ea52abf4187",
   "metadata": {},
   "outputs": [],
   "source": [
    "pyr1 = cv2.pyrDown(img)\n",
    "pyr2 = cv2.pyrUp(pyr1)\n",
    "pyrL = cv2.subtract(img,pyr2)"
   ]
  },
  {
   "cell_type": "code",
   "execution_count": 7,
   "id": "46f465cc-c817-40db-9dcd-391338e8a557",
   "metadata": {},
   "outputs": [],
   "source": [
    "while 1:\n",
    "    cv2.imshow(\"Original\", img)\n",
    "    cv2.imshow(\"Pyramid 1\", pyr1)\n",
    "    cv2.imshow(\"Pyramid 2\", pyr2)\n",
    "    cv2.imshow(\"substract\", pyrL)\n",
    "    if cv2.waitKey(1) & 0xFF == ord(\"q\"):\n",
    "        break\n",
    "cv2.destroyAllWindows()"
   ]
  },
  {
   "cell_type": "code",
   "execution_count": null,
   "id": "a21e7a4b-f6ab-47ae-b642-47817f531a60",
   "metadata": {},
   "outputs": [],
   "source": []
  }
 ],
 "metadata": {
  "kernelspec": {
   "display_name": "Python 3 (ipykernel)",
   "language": "python",
   "name": "python3"
  },
  "language_info": {
   "codemirror_mode": {
    "name": "ipython",
    "version": 3
   },
   "file_extension": ".py",
   "mimetype": "text/x-python",
   "name": "python",
   "nbconvert_exporter": "python",
   "pygments_lexer": "ipython3",
   "version": "3.10.2"
  }
 },
 "nbformat": 4,
 "nbformat_minor": 5
}
