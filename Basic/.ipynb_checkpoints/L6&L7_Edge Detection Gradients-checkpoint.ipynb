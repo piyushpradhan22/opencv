{
 "cells": [
  {
   "cell_type": "code",
   "execution_count": 1,
   "metadata": {},
   "outputs": [],
   "source": [
    "import numpy as np\n",
    "import cv2\n",
    "import matplotlib.pyplot as plt\n",
    "import time\n",
    "import scipy.ndimage.filters as filter"
   ]
  },
  {
   "cell_type": "code",
   "execution_count": 13,
   "metadata": {},
   "outputs": [],
   "source": [
    "# Discrete Gradient - df = f(x+1,y) - f(x,y)\n",
    "# Kernels - Sobel, Prewitt, Roberts\n",
    "# filter import scipy.ndimage\n",
    "# Using the functions scipy.ndimage.filters.correlate and scipy.ndimage.filters.convolve"
   ]
  },
  {
   "cell_type": "code",
   "execution_count": 2,
   "metadata": {},
   "outputs": [],
   "source": [
    "img = cv2.imread('data/peppers_color.tif',0)\n",
    "cv2.imshow('Image',img)\n",
    "cv2.waitKey(0)\n",
    "cv2.destroyAllWindows()"
   ]
  },
  {
   "cell_type": "code",
   "execution_count": 19,
   "metadata": {},
   "outputs": [],
   "source": [
    "# Sobel x gradient\n",
    "gx = np.asarray([[1,0,-1],[2,0,-2],[1,0,-1]])\n",
    "# Sobel y gradient\n",
    "gy = np.asarray([[1,2,1],[0,0,0],[-1,-2,-1]])"
   ]
  },
  {
   "cell_type": "code",
   "execution_count": 20,
   "metadata": {},
   "outputs": [
    {
     "data": {
      "text/plain": [
       "(3, 3)"
      ]
     },
     "execution_count": 20,
     "metadata": {},
     "output_type": "execute_result"
    }
   ],
   "source": [
    "gx.shape"
   ]
  },
  {
   "cell_type": "code",
   "execution_count": 35,
   "metadata": {},
   "outputs": [],
   "source": [
    "res1 = filter.correlate(img, gx/8, mode='constant').transpose()\n",
    "res2 = filter.correlate(img, gy/8, mode='constant').transpose()\n",
    "res = np.sqrt(res1**2 + res2**2).astype('uint8')"
   ]
  },
  {
   "cell_type": "code",
   "execution_count": 40,
   "metadata": {},
   "outputs": [],
   "source": [
    "cv2.imshow('Image',res)\n",
    "cv2.waitKey(0)\n",
    "cv2.destroyAllWindows()"
   ]
  },
  {
   "cell_type": "code",
   "execution_count": 61,
   "metadata": {},
   "outputs": [],
   "source": [
    "ret, thresh1 = cv2.threshold(res, 12, 15, cv2.THRESH_BINARY)"
   ]
  },
  {
   "cell_type": "code",
   "execution_count": 78,
   "metadata": {},
   "outputs": [],
   "source": [
    "def nothing(x):\n",
    "    pass\n",
    "cv2.namedWindow('image')\n",
    "cv2.createTrackbar('intensity','image',0,150, nothing)\n",
    "\n",
    "while(1):\n",
    "    i = cv2.getTrackbarPos('intensity','image')/10\n",
    "    ret, thresh1 = cv2.threshold(res, i, 15, cv2.THRESH_BINARY)\n",
    "    cv2.imshow('image',thresh1*17)\n",
    "    if cv2.waitKey(1) & 0xFF == ord('q'):\n",
    "        break\n",
    "cv2.destroyAllWindows()"
   ]
  },
  {
   "cell_type": "code",
   "execution_count": 80,
   "metadata": {},
   "outputs": [],
   "source": [
    "ret, thresh2 = cv2.threshold(res, 6, 15, cv2.THRESH_BINARY)\n",
    "cv2.imshow('Image',cv2.medianBlur(thresh2,3)*8)\n",
    "cv2.waitKey(0)\n",
    "cv2.destroyAllWindows()"
   ]
  },
  {
   "cell_type": "markdown",
   "metadata": {},
   "source": [
    "## Canny Edge Detection"
   ]
  },
  {
   "cell_type": "code",
   "execution_count": 4,
   "metadata": {},
   "outputs": [],
   "source": [
    "def nothing(x):\n",
    "    pass\n",
    "cv2.namedWindow('image')\n",
    "cv2.createTrackbar('intensity','image',0,1000, nothing)\n",
    "cv2.createTrackbar('intensity2','image',0,1000, nothing)\n",
    "\n",
    "while(1):\n",
    "    i = cv2.getTrackbarPos('intensity','image')\n",
    "    j = cv2.getTrackbarPos('intensity2','image')\n",
    "    l1 = cv2.Canny(img,i,j, L2gradient=False)\n",
    "    cv2.imshow('image',l1)\n",
    "    if cv2.waitKey(1) & 0xFF == ord('q'):\n",
    "        break\n",
    "cv2.destroyAllWindows()"
   ]
  },
  {
   "cell_type": "code",
   "execution_count": null,
   "metadata": {},
   "outputs": [],
   "source": []
  },
  {
   "cell_type": "markdown",
   "metadata": {},
   "source": [
    "# Dialation & Erosion"
   ]
  },
  {
   "cell_type": "code",
   "execution_count": 9,
   "metadata": {},
   "outputs": [],
   "source": [
    "kernel = np.ones((5,5), np.uint8)\n",
    "def nothing(x):\n",
    "    pass\n",
    "cv2.namedWindow('image')\n",
    "cv2.createTrackbar('gradient1','image',0,500, nothing)\n",
    "cv2.createTrackbar('gradient2','image',0,500, nothing)\n",
    "cv2.createTrackbar('iterations1','image',0,50, nothing)\n",
    "cv2.createTrackbar('iterations2','image',0,50, nothing)\n",
    "\n",
    "while(1):\n",
    "    i = cv2.getTrackbarPos('gradient1','image')\n",
    "    j = cv2.getTrackbarPos('gradient2','image')\n",
    "    k = cv2.getTrackbarPos('iterations1','image')\n",
    "    l = cv2.getTrackbarPos('iterations2','image')\n",
    "    l1 = cv2.Canny(img,i,j, L2gradient=False)\n",
    "    imgd = cv2.dilate(l1,kernel,iterations=k)\n",
    "    imge = cv2.erode(imgd,kernel,iterations=l)\n",
    "    cv2.imshow('image',l1)\n",
    "    cv2.imshow('image2',imge)\n",
    "    if cv2.waitKey(1) & 0xFF == ord('q'):\n",
    "        break\n",
    "cv2.destroyAllWindows()"
   ]
  },
  {
   "cell_type": "code",
   "execution_count": null,
   "metadata": {},
   "outputs": [],
   "source": []
  }
 ],
 "metadata": {
  "kernelspec": {
   "display_name": "Python 3",
   "language": "python",
   "name": "python3"
  },
  "language_info": {
   "codemirror_mode": {
    "name": "ipython",
    "version": 3
   },
   "file_extension": ".py",
   "mimetype": "text/x-python",
   "name": "python",
   "nbconvert_exporter": "python",
   "pygments_lexer": "ipython3",
   "version": "3.7.6"
  }
 },
 "nbformat": 4,
 "nbformat_minor": 4
}
