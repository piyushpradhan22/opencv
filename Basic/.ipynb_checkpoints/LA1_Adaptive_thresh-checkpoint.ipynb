{
 "cells": [
  {
   "cell_type": "code",
   "execution_count": 1,
   "id": "0126425e-495a-402c-8748-fa0b68b935fd",
   "metadata": {},
   "outputs": [],
   "source": [
    "import cv2"
   ]
  },
  {
   "cell_type": "code",
   "execution_count": 2,
   "id": "4fe8b328-0832-4149-9ef1-1370ac77acb1",
   "metadata": {},
   "outputs": [],
   "source": [
    "img = cv2.imread('data/sudoku.png',0)"
   ]
  },
  {
   "cell_type": "markdown",
   "id": "ebd0fa91-0b40-45d9-8ee5-c0352a024ddc",
   "metadata": {
    "tags": []
   },
   "source": [
    "### Normal Thresh"
   ]
  },
  {
   "cell_type": "code",
   "execution_count": 5,
   "id": "ba09aa9f-fd65-4c28-a013-99350495f1f7",
   "metadata": {},
   "outputs": [],
   "source": [
    "def nothing(x):\n",
    "    pass\n",
    "\n",
    "cv2.namedWindow('Trackbars')\n",
    "cv2.createTrackbar('ThreshMin','Trackbars',0,255, nothing)\n",
    "cv2.createTrackbar('ThreshMax','Trackbars',0,255, nothing)\n",
    "\n",
    "while(1):\n",
    "    threshMin = cv2.getTrackbarPos('ThreshMin','Trackbars')\n",
    "    threshMax = cv2.getTrackbarPos('ThreshMax','Trackbars')\n",
    "    _,th1 = cv2.threshold(img,threshMin,threshMax,cv2.THRESH_BINARY)\n",
    "    cv2.imshow(\"Image\", img)\n",
    "    cv2.imshow(\"Thresh\", th1)\n",
    "    if cv2.waitKey(1) & 0xFF == ord('q'):\n",
    "        break\n",
    "cv2.destroyAllWindows()"
   ]
  },
  {
   "cell_type": "markdown",
   "id": "106e26ad-2cd6-4e28-8bd5-47a9c05c8c12",
   "metadata": {},
   "source": [
    "### Adaptive Thresh"
   ]
  },
  {
   "cell_type": "code",
   "execution_count": 6,
   "id": "ecbbe87a-69b0-44ed-9ee1-4b80892d5d19",
   "metadata": {},
   "outputs": [],
   "source": [
    "def nothing(x):\n",
    "    pass\n",
    "\n",
    "cv2.namedWindow('Trackbars2')\n",
    "cv2.createTrackbar('C','Trackbars2',1,30, nothing)\n",
    "\n",
    "while(1):\n",
    "    C = cv2.getTrackbarPos('C','Trackbars2')\n",
    "    th1 = cv2.adaptiveThreshold(img,255, cv2.ADAPTIVE_THRESH_MEAN_C, cv2.THRESH_BINARY, 11, C)\n",
    "    cv2.imshow(\"Image\", img)\n",
    "    cv2.imshow(\"Thresh\", th1)\n",
    "    if cv2.waitKey(1) & 0xFF == ord('q'):\n",
    "        break\n",
    "cv2.destroyAllWindows()"
   ]
  },
  {
   "cell_type": "code",
   "execution_count": null,
   "id": "2c5015c9-76e0-428a-b917-810669080adf",
   "metadata": {},
   "outputs": [],
   "source": []
  }
 ],
 "metadata": {
  "kernelspec": {
   "display_name": "Python 3 (ipykernel)",
   "language": "python",
   "name": "python3"
  },
  "language_info": {
   "codemirror_mode": {
    "name": "ipython",
    "version": 3
   },
   "file_extension": ".py",
   "mimetype": "text/x-python",
   "name": "python",
   "nbconvert_exporter": "python",
   "pygments_lexer": "ipython3",
   "version": "3.10.2"
  }
 },
 "nbformat": 4,
 "nbformat_minor": 5
}
