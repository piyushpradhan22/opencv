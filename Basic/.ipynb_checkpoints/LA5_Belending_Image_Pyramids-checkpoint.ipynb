{
 "cells": [
  {
   "cell_type": "code",
   "execution_count": 1,
   "id": "4e5f9ec5-638a-43f2-9239-e159f4be6c8f",
   "metadata": {},
   "outputs": [],
   "source": [
    "import cv2\n",
    "import numpy as np"
   ]
  },
  {
   "cell_type": "code",
   "execution_count": 2,
   "id": "d6f30777-e94d-4e50-b8a3-69ef2022959d",
   "metadata": {},
   "outputs": [],
   "source": [
    "apple = cv2.imread(\"data/apple.jpg\")[32:,:,:]\n",
    "orange = cv2.imread(\"data/orange.jpg\")[:480,:,:]"
   ]
  },
  {
   "cell_type": "code",
   "execution_count": 17,
   "id": "c45a6eba-2294-49ab-8802-eefd3936d3d4",
   "metadata": {},
   "outputs": [],
   "source": [
    "## Direct stacking\n",
    "out_1 = np.hstack((apple[:,:int(apple.shape[1]/2),:], orange[:,int(apple.shape[1]/2):,:]))"
   ]
  },
  {
   "cell_type": "code",
   "execution_count": 18,
   "id": "80922b51-8345-4b8c-b517-8dfa6a5be0b4",
   "metadata": {},
   "outputs": [],
   "source": [
    "while 1:\n",
    "    cv2.imshow(\"Apple\", apple)\n",
    "    cv2.imshow(\"Orange\", orange)\n",
    "    cv2.imshow(\"Stacked\", out_1)\n",
    "    if cv2.waitKey(1) & 0xFF == ord(\"q\"):\n",
    "        break\n",
    "cv2.destroyAllWindows()"
   ]
  },
  {
   "cell_type": "code",
   "execution_count": 5,
   "id": "44a009a2-72c0-4670-b669-7ea52abf4187",
   "metadata": {},
   "outputs": [],
   "source": [
    "## Blending\n",
    "gp = []\n",
    "gp.append(img)\n",
    "pyrDwn = cv2.pyrDown(img)\n",
    "gp.append(pyrDwn)\n",
    "for i in range(5):\n",
    "    pyrDwn = cv2.pyrDown(pyrDwn)\n",
    "    gp.append(pyrDwn)"
   ]
  },
  {
   "cell_type": "code",
   "execution_count": 11,
   "id": "99f7c332-eaf5-41da-85e8-f14203550b90",
   "metadata": {},
   "outputs": [],
   "source": [
    "gpe = []\n",
    "for i in range(1,len(gp)):\n",
    "    gpe.append(cv2.pyrUp(gp[i]))"
   ]
  },
  {
   "cell_type": "code",
   "execution_count": null,
   "id": "d92967fa-c8e6-4122-9c1d-8cb36d256036",
   "metadata": {},
   "outputs": [],
   "source": [
    "for i in range(len(gpe)):\n",
    "    print(len(i))"
   ]
  },
  {
   "cell_type": "code",
   "execution_count": null,
   "id": "83a189dc-5a82-4316-b2c6-88b1c511e3e3",
   "metadata": {},
   "outputs": [],
   "source": [
    "np.hstack()"
   ]
  },
  {
   "cell_type": "code",
   "execution_count": 4,
   "id": "46f465cc-c817-40db-9dcd-391338e8a557",
   "metadata": {},
   "outputs": [],
   "source": [
    "while 1:\n",
    "    cv2.imshow(\"Original\", img)\n",
    "    cv2.imshow(\"Pyramid\", gp[5])\n",
    "    if cv2.waitKey(1) & 0xFF == ord(\"q\"):\n",
    "        break\n",
    "cv2.destroyAllWindows()"
   ]
  },
  {
   "cell_type": "code",
   "execution_count": null,
   "id": "a21e7a4b-f6ab-47ae-b642-47817f531a60",
   "metadata": {},
   "outputs": [],
   "source": []
  }
 ],
 "metadata": {
  "kernelspec": {
   "display_name": "Python 3 (ipykernel)",
   "language": "python",
   "name": "python3"
  },
  "language_info": {
   "codemirror_mode": {
    "name": "ipython",
    "version": 3
   },
   "file_extension": ".py",
   "mimetype": "text/x-python",
   "name": "python",
   "nbconvert_exporter": "python",
   "pygments_lexer": "ipython3",
   "version": "3.10.2"
  }
 },
 "nbformat": 4,
 "nbformat_minor": 5
}
