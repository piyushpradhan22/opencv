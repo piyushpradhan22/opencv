{
 "cells": [
  {
   "cell_type": "code",
   "execution_count": 3,
   "metadata": {},
   "outputs": [],
   "source": [
    "import numpy as np\n",
    "import cv2\n",
    "import matplotlib.pyplot as plt"
   ]
  },
  {
   "cell_type": "code",
   "execution_count": 6,
   "metadata": {},
   "outputs": [],
   "source": [
    "#HoughLines\n",
    "img = cv2.imread('data/road1.png',1)\n",
    "gray = cv2.imread('data/road1.png',0)\n",
    "blur = cv2.GaussianBlur(gray,(5,5),0)\n",
    "edges = cv2.Canny(blur, 50, 150, apertureSize=3)\n",
    "cv2.imshow('edges', edges)\n",
    "lines = cv2.HoughLines(edges, 1, np.pi / 180, 200)\n",
    "\n",
    "for line in lines:\n",
    "    rho,theta = line[0]\n",
    "    a = np.cos(theta)\n",
    "    b = np.sin(theta)\n",
    "    x0 = a * rho\n",
    "    y0 = b * rho\n",
    "    # x1 stores the rounded off value of (r * cos(theta) - 1000 * sin(theta))\n",
    "    x1 = int(x0 + 1000 * (-b))\n",
    "    # y1 stores the rounded off value of (r * sin(theta)+ 1000 * cos(theta))\n",
    "    y1 = int(y0 + 1000 * (a))\n",
    "    # x2 stores the rounded off value of (r * cos(theta)+ 1000 * sin(theta))\n",
    "    x2 = int(x0 - 1000 * (-b))\n",
    "    # y2 stores the rounded off value of (r * sin(theta)- 1000 * cos(theta))\n",
    "    y2 = int(y0 - 1000 * (a))\n",
    "    cv2.line(img, (x1, y1), (x2, y2), (0, 0, 255), 2)\n",
    "\n",
    "\n",
    "cv2.imshow('image', img)\n",
    "k = cv2.waitKey(0)\n",
    "cv2.destroyAllWindows()"
   ]
  },
  {
   "cell_type": "code",
   "execution_count": 7,
   "metadata": {},
   "outputs": [],
   "source": [
    "#HoughLinesP\n",
    "img = cv2.imread('data/road1.png',1)\n",
    "gray = cv2.imread('data/road1.png',0)\n",
    "#blur = cv2.GaussianBlur(gray,(5,5),0)\n",
    "edges = cv2.Canny(gray, 150, 255, apertureSize=3)\n",
    "cv2.imshow('edges', edges)\n",
    "lines = cv2.HoughLinesP(edges, 1, np.pi / 180, 100, minLineLength=150, maxLineGap = 50)\n",
    "for line in lines:\n",
    "    x1,y1,x2,y2 = line[0]\n",
    "    cv2.line(img, (x1, y1), (x2, y2), (0, 0, 255), 2)\n",
    "\n",
    "\n",
    "cv2.imshow('image', img)\n",
    "k = cv2.waitKey(0)\n",
    "cv2.destroyAllWindows()"
   ]
  },
  {
   "cell_type": "code",
   "execution_count": null,
   "metadata": {},
   "outputs": [],
   "source": []
  }
 ],
 "metadata": {
  "kernelspec": {
   "display_name": "Python 3 (ipykernel)",
   "language": "python",
   "name": "python3"
  },
  "language_info": {
   "codemirror_mode": {
    "name": "ipython",
    "version": 3
   },
   "file_extension": ".py",
   "mimetype": "text/x-python",
   "name": "python",
   "nbconvert_exporter": "python",
   "pygments_lexer": "ipython3",
   "version": "3.10.2"
  }
 },
 "nbformat": 4,
 "nbformat_minor": 4
}
