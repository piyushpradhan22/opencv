{
 "cells": [
  {
   "cell_type": "code",
   "execution_count": 1,
   "id": "4e5f9ec5-638a-43f2-9239-e159f4be6c8f",
   "metadata": {},
   "outputs": [],
   "source": [
    "import cv2\n",
    "import numpy as np"
   ]
  },
  {
   "cell_type": "code",
   "execution_count": 2,
   "id": "d6f30777-e94d-4e50-b8a3-69ef2022959d",
   "metadata": {},
   "outputs": [],
   "source": [
    "apple = cv2.imread(\"data/apple.jpg\")[32:,:,:]\n",
    "orange = cv2.imread(\"data/orange.jpg\")[:480,:,:]"
   ]
  },
  {
   "cell_type": "code",
   "execution_count": 3,
   "id": "c45a6eba-2294-49ab-8802-eefd3936d3d4",
   "metadata": {},
   "outputs": [],
   "source": [
    "## Direct stacking\n",
    "out_1 = np.hstack((apple[:,:int(apple.shape[1]/2),:], orange[:,int(apple.shape[1]/2):,:]))"
   ]
  },
  {
   "cell_type": "code",
   "execution_count": 18,
   "id": "80922b51-8345-4b8c-b517-8dfa6a5be0b4",
   "metadata": {},
   "outputs": [],
   "source": [
    "while 1:\n",
    "    cv2.imshow(\"Apple\", apple)\n",
    "    cv2.imshow(\"Orange\", orange)\n",
    "    cv2.imshow(\"Stacked\", out_1)\n",
    "    if cv2.waitKey(1) & 0xFF == ord(\"q\"):\n",
    "        break\n",
    "cv2.destroyAllWindows()"
   ]
  },
  {
   "cell_type": "code",
   "execution_count": 4,
   "id": "44a009a2-72c0-4670-b669-7ea52abf4187",
   "metadata": {},
   "outputs": [],
   "source": [
    "## Blending\n",
    "gp_apple = []\n",
    "gp_apple.append(apple)\n",
    "pyrDwn = cv2.pyrDown(apple)\n",
    "gp_apple.append(pyrDwn)\n",
    "for i in range(5):\n",
    "    pyrDwn = cv2.pyrDown(pyrDwn)\n",
    "    gp_apple.append(pyrDwn)\n",
    "    \n",
    "gp_orange = []\n",
    "gp_orange.append(orange)\n",
    "pyrDwn = cv2.pyrDown(orange)\n",
    "gp_orange.append(pyrDwn)\n",
    "for i in range(5):\n",
    "    pyrDwn = cv2.pyrDown(pyrDwn)\n",
    "    gp_orange.append(pyrDwn)"
   ]
  },
  {
   "cell_type": "code",
   "execution_count": 5,
   "id": "99f7c332-eaf5-41da-85e8-f14203550b90",
   "metadata": {},
   "outputs": [],
   "source": [
    "gpe_apple = []\n",
    "for i in range(1,len(gp_apple)):\n",
    "    gpe_apple.append(cv2.pyrUp(gp_apple[i]))\n",
    "\n",
    "gpe_orange = []\n",
    "for i in range(1,len(gp_orange)):\n",
    "    gpe_orange.append(cv2.pyrUp(gp_orange[i]))"
   ]
  },
  {
   "cell_type": "code",
   "execution_count": 17,
   "id": "d92967fa-c8e6-4122-9c1d-8cb36d256036",
   "metadata": {},
   "outputs": [],
   "source": [
    "lp_apple = []\n",
    "for i in range(len(gpe_apple)-1):\n",
    "    lp_apple.append(cv2.subtract(gp_apple[i], gpe_apple[i]))\n",
    "lp_orange = []\n",
    "for i in range(len(gpe_orange)-1):\n",
    "    lp_orange.append(cv2.subtract(gp_orange[i], gpe_orange[i]))"
   ]
  },
  {
   "cell_type": "code",
   "execution_count": 24,
   "id": "86e885e4-201b-40b8-a6ec-c1eea3d13a30",
   "metadata": {},
   "outputs": [],
   "source": [
    "apple_orange_pyr = []\n",
    "for ap_lap, or_lap in zip(lp_apple,lp_orange):\n",
    "    apple_orange_pyr.append(np.hstack((ap_lap[:,:int(ap_lap.shape[1]/2),:], or_lap[:,int(or_lap.shape[1]/2):,:])))"
   ]
  },
  {
   "cell_type": "code",
   "execution_count": 33,
   "id": "318a52ef-5432-42c0-afbe-47548f5a0394",
   "metadata": {},
   "outputs": [
    {
     "data": {
      "text/plain": [
       "30"
      ]
     },
     "execution_count": 33,
     "metadata": {},
     "output_type": "execute_result"
    }
   ],
   "source": [
    "len(apple_orange_pyr[4])"
   ]
  },
  {
   "cell_type": "code",
   "execution_count": 37,
   "id": "315db5e9-24e1-4e65-b775-b4247d48d7d6",
   "metadata": {},
   "outputs": [],
   "source": [
    "## Reconstruct Pyramid\n",
    "apple_orange_pyr_rcon = apple_orange_pyr[4]\n",
    "for i in range(3,-1,-1):\n",
    "    apple_orange_pyr_rcon = cv2.pyrUp(apple_orange_pyr_rcon)\n",
    "    apple_orange_pyr_rcon = cv2.add(apple_orange_pyr[i], apple_orange_pyr_rcon)"
   ]
  },
  {
   "cell_type": "code",
   "execution_count": 43,
   "id": "46f465cc-c817-40db-9dcd-391338e8a557",
   "metadata": {},
   "outputs": [],
   "source": [
    "while 1:\n",
    "    cv2.imshow(\"Pyramid\", apple_orange_pyr_rcon*5)\n",
    "    if cv2.waitKey(1) & 0xFF == ord(\"q\"):\n",
    "        break\n",
    "cv2.destroyAllWindows()"
   ]
  },
  {
   "cell_type": "code",
   "execution_count": null,
   "id": "a21e7a4b-f6ab-47ae-b642-47817f531a60",
   "metadata": {},
   "outputs": [],
   "source": []
  },
  {
   "cell_type": "code",
   "execution_count": null,
   "id": "5cebca71-f060-462d-83b3-1d11cb2bb9a4",
   "metadata": {},
   "outputs": [],
   "source": []
  }
 ],
 "metadata": {
  "kernelspec": {
   "display_name": "Python 3 (ipykernel)",
   "language": "python",
   "name": "python3"
  },
  "language_info": {
   "codemirror_mode": {
    "name": "ipython",
    "version": 3
   },
   "file_extension": ".py",
   "mimetype": "text/x-python",
   "name": "python",
   "nbconvert_exporter": "python",
   "pygments_lexer": "ipython3",
   "version": "3.10.2"
  }
 },
 "nbformat": 4,
 "nbformat_minor": 5
}
