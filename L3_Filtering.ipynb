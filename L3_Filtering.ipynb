{
 "cells": [
  {
   "cell_type": "code",
   "execution_count": null,
   "metadata": {},
   "outputs": [],
   "source": [
    "import cv2\n",
    "import matplotlib.pyplot as plt\n",
    "import time\n",
    "import numpy as np"
   ]
  },
  {
   "cell_type": "code",
   "execution_count": null,
   "metadata": {},
   "outputs": [],
   "source": [
    "fruit = cv2.imread('data/fruit.png',0)\n",
    "cv2.imshow('Fruit',fruit)\n",
    "cv2.waitKey(0)\n",
    "cv2.destroyAllWindows()"
   ]
  },
  {
   "cell_type": "code",
   "execution_count": null,
   "metadata": {},
   "outputs": [],
   "source": [
    "kernel = np.asarray([[1,2,1], [2,4,2],[1,2,1]])"
   ]
  },
  {
   "cell_type": "code",
   "execution_count": null,
   "metadata": {},
   "outputs": [],
   "source": [
    "r, c = fruit.shape\n",
    "kr, kc = kernel.shape\n",
    "m = kr//2"
   ]
  },
  {
   "cell_type": "code",
   "execution_count": null,
   "metadata": {},
   "outputs": [],
   "source": [
    "fruit = cv2.imread('data/fruit.png',0)"
   ]
  },
  {
   "cell_type": "code",
   "execution_count": null,
   "metadata": {},
   "outputs": [],
   "source": [
    "fruit1 = np.zeros(fruit.shape)\n",
    "\n",
    "for i in range(r-m-1):\n",
    "    for j in range(c-m-1):\n",
    "        midValue = 0;\n",
    "        for k in range(kr):\n",
    "            for l in range(kc):\n",
    "                midValue+=fruit[i+k,j+l]+kernel[k,l]\n",
    "        fruit1[i+m,j+m] = midValue/16"
   ]
  },
  {
   "cell_type": "code",
   "execution_count": null,
   "metadata": {},
   "outputs": [],
   "source": [
    "plt.imshow(fruit1,cmap='gray')"
   ]
  },
  {
   "cell_type": "code",
   "execution_count": null,
   "metadata": {},
   "outputs": [],
   "source": [
    "peper = cv2.imread('data/peppers_gray.tif',0)\n",
    "noise_img2 = abs(peper + np.random.normal(0,15,(512,512))).astype('uint8')"
   ]
  },
  {
   "cell_type": "code",
   "execution_count": null,
   "metadata": {},
   "outputs": [],
   "source": [
    "peper1 = np.zeros(peper.shape)\n",
    "\n",
    "r, c = peper.shape\n",
    "kr, kc = kernel.shape\n",
    "m = kr//2\n",
    "\n",
    "for i in range(r-m-1):\n",
    "    for j in range(c-m-1):\n",
    "        midValue = 0;\n",
    "        for k in range(kr):\n",
    "            for l in range(kc):\n",
    "                midValue+=noise_img2[i+k,j+l]*kernel[k,l]\n",
    "        peper1[i+m,j+m] = midValue/16"
   ]
  },
  {
   "cell_type": "code",
   "execution_count": null,
   "metadata": {},
   "outputs": [],
   "source": [
    "plt.imshow(noise_img2, cmap='gray')"
   ]
  },
  {
   "cell_type": "code",
   "execution_count": null,
   "metadata": {},
   "outputs": [],
   "source": [
    "plt.imshow(peper1, cmap='gray')"
   ]
  },
  {
   "cell_type": "code",
   "execution_count": null,
   "metadata": {},
   "outputs": [],
   "source": [
    "plt.imshow(peper, cmap='gray')"
   ]
  },
  {
   "cell_type": "code",
   "execution_count": null,
   "metadata": {},
   "outputs": [],
   "source": []
  }
 ],
 "metadata": {
  "kernelspec": {
   "display_name": "Python 3",
   "language": "python",
   "name": "python3"
  },
  "language_info": {
   "codemirror_mode": {
    "name": "ipython",
    "version": 3
   },
   "file_extension": ".py",
   "mimetype": "text/x-python",
   "name": "python",
   "nbconvert_exporter": "python",
   "pygments_lexer": "ipython3",
   "version": "3.7.6"
  }
 },
 "nbformat": 4,
 "nbformat_minor": 4
}
